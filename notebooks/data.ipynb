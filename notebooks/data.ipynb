{
 "cells": [
  {
   "cell_type": "code",
   "execution_count": null,
   "metadata": {},
   "outputs": [],
   "source": [
    "import sys\n",
    "\n",
    "# NOTE run with your username\n",
    "custom_path = \"/home/luis_tunes_nos_pt/hackacity-24\"\n",
    "if custom_path not in sys.path:\n",
    "    sys.path.insert(0, custom_path)\n",
    "\n",
    "print(f\"Added {custom_path} to sys.path.\")"
   ]
  },
  {
   "cell_type": "code",
   "execution_count": null,
   "metadata": {},
   "outputs": [],
   "source": [
    "from utils import GCSBucket\n",
    "gcs_bucket = GCSBucket()\n",
    "# NOTE gcloud auth application-default login"
   ]
  }
 ],
 "metadata": {
  "kernelspec": {
   "display_name": "hackacity",
   "language": "python",
   "name": "python3"
  },
  "language_info": {
   "codemirror_mode": {
    "name": "ipython",
    "version": 3
   },
   "file_extension": ".py",
   "mimetype": "text/x-python",
   "name": "python",
   "nbconvert_exporter": "python",
   "pygments_lexer": "ipython3",
   "version": "3.9.20"
  }
 },
 "nbformat": 4,
 "nbformat_minor": 2
}
